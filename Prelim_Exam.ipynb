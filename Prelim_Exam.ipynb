{
  "nbformat": 4,
  "nbformat_minor": 0,
  "metadata": {
    "colab": {
      "name": "Prelim Exam",
      "provenance": [],
      "authorship_tag": "ABX9TyNp4up1rBg0qFoZCQUzX5zN",
      "include_colab_link": true
    },
    "kernelspec": {
      "name": "python3",
      "display_name": "Python 3"
    },
    "language_info": {
      "name": "python"
    }
  },
  "cells": [
    {
      "cell_type": "markdown",
      "metadata": {
        "id": "view-in-github",
        "colab_type": "text"
      },
      "source": [
        "<a href=\"https://colab.research.google.com/github/EKielz/OOP-58002/blob/main/Prelim_Exam.ipynb\" target=\"_parent\"><img src=\"https://colab.research.google.com/assets/colab-badge.svg\" alt=\"Open In Colab\"/></a>"
      ]
    },
    {
      "cell_type": "code",
      "source": [
        "class Person():\n",
        "  def __init__(self, name, age, school, ID, course):\n",
        "    self.name = name\n",
        "    self.age = age\n",
        "    self.school = school\n",
        "    self.ID = ID\n",
        "    self.course = course\n",
        "\n",
        "  def Display():\n",
        "    name, age = \"Betchayda, Ezekiel L.\", 18\n",
        "    ID = 202113843\n",
        "    school = \"Adamson University\"\n",
        "    course = \"Computer Engineering\"\n",
        "    print(\"My name is {} and I am {} years old\".format(name, age))\n",
        "    print(\"My student ID is {}\".format(ID))\n",
        "    print(\"I am currently studying in {}\".format(school))\n",
        "    print(\"My course is {}\".format(course))\n",
        "\n",
        "  Display()"
      ],
      "metadata": {
        "colab": {
          "base_uri": "https://localhost:8080/"
        },
        "id": "QgIKQua_K0DV",
        "outputId": "11977cb3-1dd3-4dd0-9da2-bdb9b0ae61ce"
      },
      "execution_count": 25,
      "outputs": [
        {
          "output_type": "stream",
          "name": "stdout",
          "text": [
            "My name is Betchayda, Ezekiel L. and I am 18 years old\n",
            "My student ID is 202113843\n",
            "I am currently studying in Adamson University\n",
            "My course is Computer Engineering\n"
          ]
        }
      ]
    }
  ]
}