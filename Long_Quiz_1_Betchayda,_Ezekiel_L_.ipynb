{
  "nbformat": 4,
  "nbformat_minor": 0,
  "metadata": {
    "colab": {
      "name": "Long Quiz 1 - Betchayda, Ezekiel L.",
      "provenance": [],
      "authorship_tag": "ABX9TyO9IDi0HEr40rCMW9IdrsRx",
      "include_colab_link": true
    },
    "kernelspec": {
      "name": "python3",
      "display_name": "Python 3"
    },
    "language_info": {
      "name": "python"
    }
  },
  "cells": [
    {
      "cell_type": "markdown",
      "metadata": {
        "id": "view-in-github",
        "colab_type": "text"
      },
      "source": [
        "<a href=\"https://colab.research.google.com/github/EKielz/OOP-58002/blob/main/Long_Quiz_1_Betchayda%2C_Ezekiel_L_.ipynb\" target=\"_parent\"><img src=\"https://colab.research.google.com/assets/colab-badge.svg\" alt=\"Open In Colab\"/></a>"
      ]
    },
    {
      "cell_type": "markdown",
      "source": [
        "Long Quiz  1"
      ],
      "metadata": {
        "id": "0yP4kLQIdANG"
      }
    },
    {
      "cell_type": "code",
      "source": [
        "class Temperature():\n",
        "  def __init__(self, cel):\n",
        "    self.cel = cel\n",
        "\n",
        "  def fah(self):\n",
        "    fah = (cel*9/5)+32\n",
        "    return fah\n",
        "\n",
        "cel = float(input(\"Enter Temperature in Celsius: \"))\n",
        "print(\"\\nEquivalent Temperature in Fahrenheit: \", fah)\n"
      ],
      "metadata": {
        "colab": {
          "base_uri": "https://localhost:8080/"
        },
        "id": "GdNIWfuahGMn",
        "outputId": "ac87014a-d393-4566-cf22-b05d434c3bf4"
      },
      "execution_count": 78,
      "outputs": [
        {
          "output_type": "stream",
          "name": "stdout",
          "text": [
            "Enter Temperature in Celsius: 45\n",
            "\n",
            "Equivalent Temperature in Fahrenheit:  113.0\n"
          ]
        }
      ]
    }
  ]
}